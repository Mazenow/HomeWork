{
 "cells": [
  {
   "cell_type": "code",
   "execution_count": 2,
   "metadata": {},
   "outputs": [
    {
     "name": "stdout",
     "output_type": "stream",
     "text": [
      "Фраза 2 длиннее фразы 1\n"
     ]
    }
   ],
   "source": [
    "phrase_1 = '640Кб должно хватить для любых задач. Билл Гейтс (по легенде)'\n",
    "phrase_2 = 'Насколько проще было бы писать программы, если бы не заказчики'\n",
    "if len(phrase_1) > len(phrase_2):\n",
    "    print ('Фраза 1 длиннее фразы 2')\n",
    "if len(phrase_2) > len(phrase_1):\n",
    "    print('Фраза 2 длиннее фразы 1')\n",
    "if len(phrase_2) == len(phrase_1):\n",
    "    print('Фразы равны')\n",
    "    print('Конец программы')"
   ]
  },
  {
   "cell_type": "code",
   "execution_count": 12,
   "metadata": {},
   "outputs": [
    {
     "name": "stdout",
     "output_type": "stream",
     "text": [
      "высокосный год\n"
     ]
    }
   ],
   "source": [
    "x=1600\n",
    "if (x % 4 == 0) and (x % 100 == 0) and (x % 400 != 0):\n",
    "    print('обычный год')\n",
    "elif x % 4 == 0:\n",
    "    print('высокосный год')\n",
    "else:\n",
    "    print('обычный год')"
   ]
  },
  {
   "cell_type": "code",
   "execution_count": 15,
   "metadata": {},
   "outputs": [
    {
     "name": "stdout",
     "output_type": "stream",
     "text": [
      "Введите введите день:  01\n",
      "Введите введите месяц:  Март\n",
      "Ваш знак зодиака: Рыбы\n"
     ]
    }
   ],
   "source": [
    "user_date = int(input('Введите введите день:  '))\n",
    "user_month =(input('Введите введите месяц:  '))\n",
    "if (user_date > 20 and user_month == 'Март')or (user_date < 21 and user_month == 'Апрель'):\n",
    "    print ('Ваш знак зодиака: Овен')\n",
    "elif (user_date > 20 and user_month == 'Апрель') or (user_date < 21 and user_month == 'Май'):\n",
    "    print ('Ваш знак зодиака: Телец')\n",
    "elif (user_date > 21 and user_month == 'Май') or (user_date < 22 and user_month == 'Июнь'):\n",
    "    print ('Ваш знак зодиака: Близнецы')\n",
    "elif (user_date > 21 and user_month == 'Июнь')or (user_date < 23 and user_month == 'Июль'):\n",
    "    print ('Ваш знак зодиака: Рак')\n",
    "elif (user_date > 22 and user_month == 'Июль') or (user_date < 24 and user_month == 'Август'):\n",
    "    print ('Ваш знак зодиака: Лев')\n",
    "elif (user_date > 23 and user_month == 'Август') or (user_date < 24 and user_month == 'Сентябрь'):\n",
    "    print ('Ваш знак зодиака: Дева')\n",
    "elif (user_date > 23 and user_month == 'Сентябрь') or (user_date < 24 and user_month == 'Октябрь'):\n",
    "    print ('Ваш знак зодиака: Весы')\n",
    "elif (user_date > 23 and user_month == 'Октябрь') or (user_date < 23 and user_month == 'Ноябрь'):\n",
    "    print ('Ваш знак зодиака: Скорпион')\n",
    "elif (user_date > 22 and user_month == 'Ноябрь') or (user_date < 22 and user_month == 'Декабрь'):\n",
    "    print ('Ваш знак зодиака: Стрелец')\n",
    "elif (user_date > 21 and user_month == 'Декабрь') or (user_date < 21 and user_month == 'Январь'):\n",
    "    print ('Ваш знак зодиака: Козерог')\n",
    "elif (user_date > 20 and user_month == 'Январь') or (user_date < 21 and user_month == 'Февраль'):\n",
    "    print ('Ваш знак зодиака: Водолей')\n",
    "else:\n",
    "    print ('Ваш знак зодиака: Рыбы')"
   ]
  },
  {
   "cell_type": "code",
   "execution_count": 19,
   "metadata": {},
   "outputs": [
    {
     "name": "stdout",
     "output_type": "stream",
     "text": [
      "Упаковка для лыж\n",
      "Конец программы\n"
     ]
    }
   ],
   "source": [
    "width = 45\n",
    "length = 205\n",
    "height = 45\n",
    "if width < 15 and length < 15 and height < 15:\n",
    "    print('Коробка №1')\n",
    "elif 15 > width < 50 or 15 > length < 50 or height < 50 and length < 50:\n",
    "    print('Коробка №2')\n",
    "if width > 0 and length > 200 and height > 0:\n",
    "    print('Упаковка для лыж')\n",
    "else: \n",
    "    print('Стандартная коробка №3')\n",
    "print('Конец программы')\n"
   ]
  }
 ],
 "metadata": {
  "kernelspec": {
   "display_name": "Python 3",
   "language": "python",
   "name": "python3"
  },
  "language_info": {
   "codemirror_mode": {
    "name": "ipython",
    "version": 3
   },
   "file_extension": ".py",
   "mimetype": "text/x-python",
   "name": "python",
   "nbconvert_exporter": "python",
   "pygments_lexer": "ipython3",
   "version": "3.8.3"
  }
 },
 "nbformat": 4,
 "nbformat_minor": 4
}
