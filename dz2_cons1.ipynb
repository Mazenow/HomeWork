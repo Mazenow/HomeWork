{
 "cells": [
  {
   "cell_type": "code",
   "execution_count": 45,
   "metadata": {},
   "outputs": [
    {
     "name": "stdout",
     "output_type": "stream",
     "text": [
      "порордл\n",
      "о\n",
      "конец программы\n"
     ]
    }
   ],
   "source": [
    "n=str(input())\n",
    "a=int(len(n)/2)\n",
    "if (len(n)%2)>0:\n",
    "    print(n[a])\n",
    "else:\n",
    "    print(n[(a-1):(a+1)])\n",
    "print(\"конец программы\")"
   ]
  },
  {
   "cell_type": "code",
   "execution_count": 78,
   "metadata": {
    "scrolled": true
   },
   "outputs": [
    {
     "name": "stdout",
     "output_type": "stream",
     "text": [
      "Введите число: 17\n",
      "Введите число: 8\n",
      "Введите число: 9\n",
      "Введите число: 0\n",
      "34\n"
     ]
    }
   ],
   "source": [
    "sum = 0\n",
    "user_input = int(input('Введите число: '))\n",
    "while user_input!=0:\n",
    "    sum += user_input\n",
    "    user_input = int(input('Введите число: '))\n",
    "else:\n",
    "    print(sum)"
   ]
  },
  {
   "cell_type": "code",
   "execution_count": 154,
   "metadata": {},
   "outputs": [
    {
     "name": "stdout",
     "output_type": "stream",
     "text": [
      "Идеальные пары: \n",
      "Alex  и  Emma\n",
      "Arthur  и  Kate\n",
      "John  и  Kira\n",
      "Peter  и  Liza\n",
      "Richard  и  Trisha\n"
     ]
    }
   ],
   "source": [
    "boys = ['Peter', 'Alex', 'John', 'Arthur', 'Richard']\n",
    "girls = ['Kate', 'Liza', 'Kira', 'Emma', 'Trisha']\n",
    "boys.sort()\n",
    "girls.sort()\n",
    "length_boys=len(boys)\n",
    "length_girls=len(girls)\n",
    "couple=list(zip(boys,girls))\n",
    "if length_boys == length_girls:\n",
    "    print('Идеальные пары: ')\n",
    "    for name in couple:\n",
    "        bname, gname = name\n",
    "        print(bname, ' и ',gname)    \n",
    "else:\n",
    "    print('Внимание, кто-то может остаться без пары!')\n",
    "\n"
   ]
  },
  {
   "cell_type": "code",
   "execution_count": 37,
   "metadata": {},
   "outputs": [
    {
     "name": "stdout",
     "output_type": "stream",
     "text": [
      "Thailand - 23.9 C\n",
      "Germany - 13.8 C\n",
      "Russia - 3.7 C\n",
      "Poland - 12.0 C\n"
     ]
    }
   ],
   "source": [
    "countries_temperature = [\n",
    "['Thailand', [75.2, 77, 78.8, 73.4, 68, 75.2, 77]],\n",
    "['Germany', [57.2, 55.4, 59, 59, 53.6]],\n",
    "['Russia', [35.6, 37.4, 39.2, 41, 42.8, 39.2, 35.6]],\n",
    "['Poland', [50, 50, 53.6, 57.2, 55.4, 55.4]]\n",
    "]\n",
    "for ct in countries_temperature:\n",
    "    country, temperature=ct\n",
    "    sum=0\n",
    "    for temp in temperature:\n",
    "        sum+=temp\n",
    "    mid_sum= round(((sum/len(temperature))-32)*5/9, 1)\n",
    "    print(country,'-', mid_sum, 'C')"
   ]
  }
 ],
 "metadata": {
  "kernelspec": {
   "display_name": "Python 3",
   "language": "python",
   "name": "python3"
  },
  "language_info": {
   "codemirror_mode": {
    "name": "ipython",
    "version": 3
   },
   "file_extension": ".py",
   "mimetype": "text/x-python",
   "name": "python",
   "nbconvert_exporter": "python",
   "pygments_lexer": "ipython3",
   "version": "3.8.3"
  }
 },
 "nbformat": 4,
 "nbformat_minor": 4
}
